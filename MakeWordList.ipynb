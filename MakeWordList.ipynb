{
  "nbformat": 4,
  "nbformat_minor": 0,
  "metadata": {
    "colab": {
      "name": "MakeWordList.ipynb",
      "provenance": [],
      "authorship_tag": "ABX9TyMcelMc1+uJR57O4BlE+FQC",
      "include_colab_link": true
    },
    "kernelspec": {
      "name": "python3",
      "display_name": "Python 3"
    },
    "language_info": {
      "name": "python"
    }
  },
  "cells": [
    {
      "cell_type": "markdown",
      "metadata": {
        "id": "view-in-github",
        "colab_type": "text"
      },
      "source": [
        "<a href=\"https://colab.research.google.com/github/Takato0884/DS_Competition_NLP/blob/main/MakeWordList.ipynb\" target=\"_parent\"><img src=\"https://colab.research.google.com/assets/colab-badge.svg\" alt=\"Open In Colab\"/></a>"
      ]
    },
    {
      "cell_type": "markdown",
      "metadata": {
        "id": "Simojcl0jdeR"
      },
      "source": [
        "# クラス定義"
      ]
    },
    {
      "cell_type": "code",
      "metadata": {
        "colab": {
          "base_uri": "https://localhost:8080/"
        },
        "id": "KYYDLpIobm7F",
        "outputId": "425fb59d-ada3-49d9-e2ef-38fca888b2ed"
      },
      "source": [
        "# colaboratoryの約束事\n",
        "\n",
        "from google.colab import drive, files\n",
        "import os\n",
        " \n",
        "drive.mount('/content/drive')  # drive をマウント\n",
        "COLAB = \"/content/drive/MyDrive/CommonLit/html\"  # colaboratory の path (必要時応じて変更)\n",
        "os.chdir(COLAB)"
      ],
      "execution_count": null,
      "outputs": [
        {
          "output_type": "stream",
          "text": [
            "Drive already mounted at /content/drive; to attempt to forcibly remount, call drive.mount(\"/content/drive\", force_remount=True).\n"
          ],
          "name": "stdout"
        }
      ]
    },
    {
      "cell_type": "code",
      "metadata": {
        "id": "jDzQq1VRcH6P"
      },
      "source": [
        "from pathlib import Path\n",
        "import numpy as np \n",
        "import pandas as pd\n",
        "import requests\n",
        "from bs4 import BeautifulSoup\n",
        "import urllib"
      ],
      "execution_count": null,
      "outputs": []
    },
    {
      "cell_type": "code",
      "metadata": {
        "id": "RlEnd980px-4"
      },
      "source": [
        "class MakeWordList:\n",
        "  def __init__(self, path_html):\n",
        "    self.HTML = Path(COLAB, path_html)\n",
        "    self.base_url = \"https://www.spellingcity.com/\"\n",
        "    self.output = []\n",
        "    self.link_list = []\n",
        "\n",
        "  def make_word_list(self):\n",
        "    soup = BeautifulSoup(open(self.HTML), \"html.parser\")\n",
        "\n",
        "    for element in soup.find_all(\"a\"):\n",
        "      url = element.get(\"href\")\n",
        "      if \"import\" not in url:\n",
        "        link_url = urllib.parse.urljoin(self.base_url, url)\n",
        "        self.link_list.append(link_url)\n",
        "\n",
        "    for load_url in self.link_list:\n",
        "      html = requests.get(load_url)\n",
        "      soup = BeautifulSoup(html.content, \"html.parser\")\n",
        "      teach_me_body = soup.find(class_=\"teach-me-body\")\n",
        "      for element in teach_me_body.find_all(\"a\"):\n",
        "        self.output.append(element.text)\n",
        "\n",
        "    return self.output\n",
        "    # print(self.output)"
      ],
      "execution_count": null,
      "outputs": []
    },
    {
      "cell_type": "markdown",
      "metadata": {
        "id": "pyJ-Zk6VjjuP"
      },
      "source": [
        "# 使用例"
      ]
    },
    {
      "cell_type": "code",
      "metadata": {
        "id": "aGbAQL8u1Nge"
      },
      "source": [
        "html_list = [\"HighSchool_SpaceScience.html\",\"HighSchool_EarthScience.html\",\"HighSchool_Physics.html\",\n",
        "             \"HighSchool_Chemistry.html\",\"HighSchool_Ecology.html\",\"HighSchool_Integrated_Science.html\",\"HighSchool_Biology.html\"]\n",
        "\n",
        "dict_word_list = {}\n",
        "\n",
        "for html_element in html_list:\n",
        "  MWL = MakeWordList(path_html=html_element)\n",
        "  dict_word_list[html_element] = MWL.make_word_list()"
      ],
      "execution_count": null,
      "outputs": []
    },
    {
      "cell_type": "code",
      "metadata": {
        "id": "yMS2701H-otT"
      },
      "source": [
        "import pickle\n",
        "\n",
        "with open(\"/content/drive/MyDrive/CommonLit/html/science_dictionary.pkl\",\"wb\") as tf:\n",
        "  pickle.dump(dict_word_list, tf)"
      ],
      "execution_count": null,
      "outputs": []
    },
    {
      "cell_type": "code",
      "metadata": {
        "id": "UVmA-Ag7DdPr"
      },
      "source": [
        "dict_word_list = {}\n",
        "\n",
        "MWL = MakeWordList(path_html=\"HighSchool_History.html\")\n",
        "dict_word_list[\"HighSchool_History.html\"] = MWL.make_word_list()"
      ],
      "execution_count": null,
      "outputs": []
    },
    {
      "cell_type": "code",
      "metadata": {
        "id": "5df5J_2uEQsT"
      },
      "source": [
        "with open(\"/content/drive/MyDrive/CommonLit/html/history_dictionary.pkl\",\"wb\") as tf:\n",
        "  pickle.dump(dict_word_list, tf)"
      ],
      "execution_count": null,
      "outputs": []
    },
    {
      "cell_type": "markdown",
      "metadata": {
        "id": "zpdMLec6jmj3"
      },
      "source": [
        "# 制作過程"
      ]
    },
    {
      "cell_type": "code",
      "metadata": {
        "id": "v7SU04tftXpk"
      },
      "source": [
        "# a = MakeWordList(path_html=\"HighSchool_Biology.html\")\n",
        "# high_school_biology = a.make_word_list()"
      ],
      "execution_count": null,
      "outputs": []
    },
    {
      "cell_type": "code",
      "metadata": {
        "id": "f7JD3aao7lSb"
      },
      "source": [
        "# dict_a = {}\n",
        "# dict_a[\"a\"] = [\"a\",\"b\",\"c\",\"d\"]\n",
        "# print(type(dict_a[\"a\"]))"
      ],
      "execution_count": null,
      "outputs": []
    },
    {
      "cell_type": "code",
      "metadata": {
        "id": "TIh4wh7XcRVi"
      },
      "source": [
        "# HTML = Path(COLAB, \"html/HighSchool_Biology.html\")\n",
        "\n",
        "# base_url = \"https://www.spellingcity.com/\"\n",
        "# html = requests.get(load_url)\n",
        "# soup = BeautifulSoup(html.content, \"html.parser\")\n",
        "\n",
        "# teach_me_body = soup.find(class_=\"teach-me-body\")\n",
        "\n",
        "# for element in teach_me_body.find_all(\"a\"):\n",
        "#   print(element.text)\n",
        "\n",
        "# soup = BeautifulSoup(open(HTML), \"html.parser\")\n",
        "# link_list = []\n",
        "\n",
        "# for element in soup.find_all(\"a\"):\n",
        "#   url = element.get(\"href\")\n",
        "#   if \"import\" not in url:\n",
        "#     link_url = urllib.parse.urljoin(base_url, url)\n",
        "#     link_list.append(link_url)\n",
        "\n",
        "# print(link_list)\n",
        "# print(len(link_list))\n",
        "\n",
        "# HighSchool_Biology = []\n",
        "# for load_url in link_list:\n",
        "#   html = requests.get(load_url)\n",
        "#   soup = BeautifulSoup(html.content, \"html.parser\")\n",
        "#   teach_me_body = soup.find(class_=\"teach-me-body\")\n",
        "#   for element in teach_me_body.find_all(\"a\"):\n",
        "#     HighSchool_Biology.append(element.text)\n",
        "\n",
        "# print(len(HighSchool_Biology))"
      ],
      "execution_count": null,
      "outputs": []
    }
  ]
}